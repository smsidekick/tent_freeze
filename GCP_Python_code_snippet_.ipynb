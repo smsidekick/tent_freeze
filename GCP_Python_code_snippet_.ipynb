{
  "nbformat": 4,
  "nbformat_minor": 0,
  "metadata": {
    "colab": {
      "name": "GCP_Python_code_snippet .ipynb",
      "provenance": [],
      "toc_visible": true,
      "include_colab_link": true
    },
    "kernelspec": {
      "display_name": "Python 3",
      "name": "python3"
    },
    "language_info": {
      "name": "python"
    }
  },
  "cells": [
    {
      "cell_type": "markdown",
      "metadata": {
        "id": "view-in-github",
        "colab_type": "text"
      },
      "source": [
        "<a href=\"https://colab.research.google.com/github/smsidekick/tent_freeze/blob/sm_dev/GCP_Python_code_snippet_.ipynb\" target=\"_parent\"><img src=\"https://colab.research.google.com/assets/colab-badge.svg\" alt=\"Open In Colab\"/></a>"
      ]
    },
    {
      "cell_type": "markdown",
      "metadata": {
        "id": "TC03wIpc7fmX"
      },
      "source": [
        "#YOU NEED TO MAKE YOUR OWN COPY OF THIS DOCUMENT TO RUN CODE!\n",
        "*Go to File > Save a Copy in Drive*"
      ]
    },
    {
      "cell_type": "markdown",
      "metadata": {
        "id": "tpAvP3gR28MO"
      },
      "source": [
        "## Read in BigQuery Data with Magics"
      ]
    },
    {
      "cell_type": "code",
      "metadata": {
        "colab": {
          "base_uri": "https://localhost:8080/"
        },
        "id": "XV64fi_fljhr",
        "outputId": "eaaed362-21c7-451d-8f21-c37d762c46e8"
      },
      "source": [
        "from google.colab import auth\n",
        "from google.cloud.bigquery import magics\n",
        "\n",
        "# Specify your GCP Project\n",
        "project_id = \"env-617-class-sandbox\"\n",
        "!gcloud config set project {project_id}\n",
        "magics.context.project = 'env-617-class-sandbox'\n",
        "auth.authenticate_user()"
      ],
      "execution_count": null,
      "outputs": [
        {
          "output_type": "stream",
          "name": "stdout",
          "text": [
            "Updated property [core/project].\n"
          ]
        }
      ]
    },
    {
      "cell_type": "code",
      "metadata": {
        "id": "vZm9BBM1wekE"
      },
      "source": [
        "# BQ query using a magic command\n",
        "# Magic commands are code shortcuts (they vary slightly by environment)\n",
        "# Two %% mean the entire cell is under the influence of the magic command (vs. just the line)\n",
        "%%bigquery df \n",
        "\n",
        "SELECT \n",
        "Borough,\n",
        "COUNT(*) AS n_bins\n",
        "FROM `env-617-class-sandbox.recycling_data.nyc_public_recycling_bins`\n",
        "GROUP BY Borough"
      ],
      "execution_count": null,
      "outputs": []
    },
    {
      "cell_type": "code",
      "metadata": {
        "colab": {
          "base_uri": "https://localhost:8080/",
          "height": 202
        },
        "id": "LGhWe8snxoE8",
        "outputId": "512efa6b-0a48-4d13-f30f-c97158178867"
      },
      "source": [
        "df.head()"
      ],
      "execution_count": null,
      "outputs": [
        {
          "output_type": "execute_result",
          "data": {
            "text/html": [
              "<div>\n",
              "<style scoped>\n",
              "    .dataframe tbody tr th:only-of-type {\n",
              "        vertical-align: middle;\n",
              "    }\n",
              "\n",
              "    .dataframe tbody tr th {\n",
              "        vertical-align: top;\n",
              "    }\n",
              "\n",
              "    .dataframe thead th {\n",
              "        text-align: right;\n",
              "    }\n",
              "</style>\n",
              "<table border=\"1\" class=\"dataframe\">\n",
              "  <thead>\n",
              "    <tr style=\"text-align: right;\">\n",
              "      <th></th>\n",
              "      <th>Borough</th>\n",
              "      <th>n_bins</th>\n",
              "    </tr>\n",
              "  </thead>\n",
              "  <tbody>\n",
              "    <tr>\n",
              "      <th>0</th>\n",
              "      <td>Bronx</td>\n",
              "      <td>108</td>\n",
              "    </tr>\n",
              "    <tr>\n",
              "      <th>1</th>\n",
              "      <td>Queens</td>\n",
              "      <td>117</td>\n",
              "    </tr>\n",
              "    <tr>\n",
              "      <th>2</th>\n",
              "      <td>Brooklyn</td>\n",
              "      <td>89</td>\n",
              "    </tr>\n",
              "    <tr>\n",
              "      <th>3</th>\n",
              "      <td>Brooklyn</td>\n",
              "      <td>5</td>\n",
              "    </tr>\n",
              "    <tr>\n",
              "      <th>4</th>\n",
              "      <td>Manhattan</td>\n",
              "      <td>184</td>\n",
              "    </tr>\n",
              "  </tbody>\n",
              "</table>\n",
              "</div>"
            ],
            "text/plain": [
              "     Borough  n_bins\n",
              "0      Bronx     108\n",
              "1     Queens     117\n",
              "2   Brooklyn      89\n",
              "3  Brooklyn        5\n",
              "4  Manhattan     184"
            ]
          },
          "metadata": {},
          "execution_count": 3
        }
      ]
    },
    {
      "cell_type": "markdown",
      "metadata": {
        "id": "RBRXeiDB29nP"
      },
      "source": [
        "## Read in BigQuery Data with Client Library"
      ]
    },
    {
      "cell_type": "code",
      "metadata": {
        "id": "y5dSbamZ2-m0"
      },
      "source": [
        "from google.colab import auth\n",
        "from google.cloud import bigquery"
      ],
      "execution_count": null,
      "outputs": []
    },
    {
      "cell_type": "code",
      "metadata": {
        "id": "7kYqWjyk3On6"
      },
      "source": [
        "\n",
        "# Specify your GCP Project\n",
        "project_id = \"env-617-class-sandbox\"\n",
        "auth.authenticate_user()\n",
        "\n",
        "client = bigquery.Client(project=project_id)"
      ],
      "execution_count": null,
      "outputs": []
    },
    {
      "cell_type": "code",
      "metadata": {
        "colab": {
          "base_uri": "https://localhost:8080/",
          "height": 202
        },
        "id": "XeF5-2jWxqQ0",
        "outputId": "ae8b034a-25a1-4e2e-85a9-f742bf4e4bb3"
      },
      "source": [
        "sql = '''\n",
        "SELECT\n",
        "Borough,\n",
        "COUNT(*) AS n_bins\n",
        "FROM `env-617-class-sandbox.recycling_data.nyc_public_recycling_bins`\n",
        "GROUP BY Borough\n",
        "'''\n",
        "\n",
        "df = client.query(sql).to_dataframe()\n",
        "\n",
        "df.head()"
      ],
      "execution_count": null,
      "outputs": [
        {
          "output_type": "execute_result",
          "data": {
            "text/html": [
              "<div>\n",
              "<style scoped>\n",
              "    .dataframe tbody tr th:only-of-type {\n",
              "        vertical-align: middle;\n",
              "    }\n",
              "\n",
              "    .dataframe tbody tr th {\n",
              "        vertical-align: top;\n",
              "    }\n",
              "\n",
              "    .dataframe thead th {\n",
              "        text-align: right;\n",
              "    }\n",
              "</style>\n",
              "<table border=\"1\" class=\"dataframe\">\n",
              "  <thead>\n",
              "    <tr style=\"text-align: right;\">\n",
              "      <th></th>\n",
              "      <th>Borough</th>\n",
              "      <th>n_bins</th>\n",
              "    </tr>\n",
              "  </thead>\n",
              "  <tbody>\n",
              "    <tr>\n",
              "      <th>0</th>\n",
              "      <td>Bronx</td>\n",
              "      <td>108</td>\n",
              "    </tr>\n",
              "    <tr>\n",
              "      <th>1</th>\n",
              "      <td>Queens</td>\n",
              "      <td>117</td>\n",
              "    </tr>\n",
              "    <tr>\n",
              "      <th>2</th>\n",
              "      <td>Brooklyn</td>\n",
              "      <td>89</td>\n",
              "    </tr>\n",
              "    <tr>\n",
              "      <th>3</th>\n",
              "      <td>Brooklyn</td>\n",
              "      <td>5</td>\n",
              "    </tr>\n",
              "    <tr>\n",
              "      <th>4</th>\n",
              "      <td>Manhattan</td>\n",
              "      <td>184</td>\n",
              "    </tr>\n",
              "  </tbody>\n",
              "</table>\n",
              "</div>"
            ],
            "text/plain": [
              "     Borough  n_bins\n",
              "0      Bronx     108\n",
              "1     Queens     117\n",
              "2   Brooklyn      89\n",
              "3  Brooklyn        5\n",
              "4  Manhattan     184"
            ]
          },
          "metadata": {},
          "execution_count": 4
        }
      ]
    },
    {
      "cell_type": "markdown",
      "metadata": {
        "id": "MzPFovBo6rbb"
      },
      "source": [
        "## Write Dataframe Back to BigQuery Table with Client Library"
      ]
    },
    {
      "cell_type": "code",
      "metadata": {
        "colab": {
          "base_uri": "https://localhost:8080/"
        },
        "id": "EaWyuszH5Hk7",
        "outputId": "bd30ecc7-38dc-4af1-cc78-bcb148d77f7a"
      },
      "source": [
        "df.to_gbq('recycling_data.nyc_public_recycling_bins_by_borough', project_id=project_id)"
      ],
      "execution_count": null,
      "outputs": [
        {
          "output_type": "stream",
          "name": "stderr",
          "text": [
            "1it [00:03,  3.45s/it]\n"
          ]
        }
      ]
    },
    {
      "cell_type": "code",
      "metadata": {
        "id": "jGTw0Bpw6huH"
      },
      "source": [
        "# TEST TEST TEST "
      ],
      "execution_count": null,
      "outputs": []
    },
    {
      "cell_type": "code",
      "metadata": {
        "id": "ZilvAZ5KiM5C"
      },
      "source": [
        "# This is SMCGD2P test"
      ],
      "execution_count": null,
      "outputs": []
    }
  ]
}